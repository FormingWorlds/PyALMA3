{
 "cells": [
  {
   "cell_type": "code",
   "execution_count": 1,
   "id": "5ed61629-9bd2-4faf-9531-69d91060e7bf",
   "metadata": {},
   "outputs": [],
   "source": [
    "import numpy as np\n",
    "from alma import *\n",
    "#from almapyc import *"
   ]
  },
  {
   "cell_type": "code",
   "execution_count": 2,
   "id": "677094a1-bcf0-4cea-b6a8-f8f1e8c01978",
   "metadata": {},
   "outputs": [
    {
     "data": {
      "text/plain": [
       "{'filename': '/mnt/c/Users/MLL591/OneDrive/Research/PyALMA3/EuropaProfile_Seawater_35.2ppt_Tb268.305K.txt',\n",
       " 'rheology_structure': ['elastic', 'newton', 'maxwell'],\n",
       " 'layer_radius': False,\n",
       " 'layer_radius_index': False,\n",
       " 'num_digits': 128,\n",
       " 'gorder': 8,\n",
       " 'tau': 0,\n",
       " 'mode': 'tidal',\n",
       " 'dmin': 1,\n",
       " 'dmax': 10,\n",
       " 'dstep': 1,\n",
       " 'time': 'log',\n",
       " 'tpoints': 20,\n",
       " 'timestart': -3,\n",
       " 'timeend': 2,\n",
       " 'function': 'step',\n",
       " 'function_length': 1.0,\n",
       " 'verbose': True,\n",
       " 'type': 'real',\n",
       " 'parallel': None}"
      ]
     },
     "execution_count": 2,
     "metadata": {},
     "output_type": "execute_result"
    }
   ],
   "source": [
    "alma_params = tomlload('params.toml')\n",
    "\n",
    "# Check none for parallel\n",
    "if type(alma_params['parallel']) is not bool:\n",
    "    alma_params['parallel'] = None\n",
    "\n",
    "alma_params"
   ]
  },
  {
   "cell_type": "code",
   "execution_count": 3,
   "id": "16228e0a-cd3b-4943-9d39-6ea63fdd16d1",
   "metadata": {},
   "outputs": [],
   "source": [
    "# Read PP model\n",
    "model = read_model_pp(abspath(alma_params['filename']))"
   ]
  },
  {
   "cell_type": "code",
   "execution_count": 4,
   "id": "0c2c0f5e-e79f-4550-bcd0-de3d63d98af2",
   "metadata": {},
   "outputs": [
    {
     "name": "stdout",
     "output_type": "stream",
     "text": [
      "  >> Verifying validity of structure rheologies\n",
      "  >> Could not find pre-defined layers from radius.\n",
      "     Infering layers from density profile.\n"
     ]
    }
   ],
   "source": [
    "rheology, params = infer_rheology_pp(model,\n",
    "                                         structure=alma_params['rheology_structure'],\n",
    "                                         layer_radius=alma_params['layer_radius'],\n",
    "                                         layer_radius_index=alma_params['layer_radius_index'])"
   ]
  },
  {
   "cell_type": "code",
   "execution_count": 5,
   "id": "00156a53-311b-4935-b3f5-b8e9584c573b",
   "metadata": {},
   "outputs": [
    {
     "name": "stdout",
     "output_type": "stream",
     "text": [
      "> Initializing\n",
      "  >> Setting precision: 128\n",
      "> Building model\n",
      "  >> Parsing Rheology\n",
      "  >> Computing mass of the planet\n",
      "  >> Computing gravity at the interface boundaries\n",
      "  >> Normalizing model parameters\n"
     ]
    }
   ],
   "source": [
    "model_params = build_model(model['model'][:, model['columns'].index('r')],\n",
    "                               model['model'][:, model['columns'].index('rho')],\n",
    "                               model['mu'],\n",
    "                               model['vis'],\n",
    "                               rheology,\n",
    "                               params,\n",
    "                               ndigits = alma_params['num_digits'],\n",
    "                               verbose = alma_params['verbose'])"
   ]
  },
  {
   "cell_type": "code",
   "execution_count": 6,
   "id": "525c408d-1428-428d-89ac-6641a4b2d22c",
   "metadata": {},
   "outputs": [],
   "source": [
    "# Harmonic degrees\n",
    "n = arange(alma_params['dmin'], alma_params['dmax'], alma_params['dstep'])"
   ]
  },
  {
   "cell_type": "code",
   "execution_count": 7,
   "id": "b87e8869-2442-42fa-97e6-066e7f136e9c",
   "metadata": {},
   "outputs": [],
   "source": [
    "# Time step\n",
    "if alma_params['time'] == 'lin':\n",
    "    t = linspace(alma_params['timestart'], \n",
    "                 alma_params['timeend'], \n",
    "                 alma_params['tpoints'],\n",
    "                 endpoint=True)\n",
    "elif alma_params['time'] == 'log':\n",
    "    t = logspace(alma_params['timestart'], \n",
    "                 alma_params['timeend'], \n",
    "                 alma_params['tpoints'],\n",
    "                 endpoint=True)\n",
    "elif alma_params['time'] == 'geom':\n",
    "    t = geomspace(alma_params['timestart'], \n",
    "                 alma_params['timeend'], \n",
    "                 alma_params['tpoints'],\n",
    "                 endpoint=True)\n",
    "else:\n",
    "    print(f'ERROR: Unknown scale for time: {alma_params[\"time\"]}.')\n",
    "    print('Allowed values are: \"log\", \"geom\", \"lin\".')\n",
    "    raise ValueError()"
   ]
  },
  {
   "cell_type": "code",
   "execution_count": null,
   "id": "355c05bf-1600-4436-a816-90239e1f5f66",
   "metadata": {},
   "outputs": [
    {
     "name": "stdout",
     "output_type": "stream",
     "text": [
      "> Computing Salzer weights\n",
      "> Computing Love Numbers - Parallel\n"
     ]
    },
    {
     "name": "stderr",
     "output_type": "stream",
     "text": [
      "[Parallel(n_jobs=-1)]: Using backend ThreadingBackend with 14 concurrent workers.\n"
     ]
    }
   ],
   "source": [
    "# Compute love numbers\n",
    "h, l, k = love_numbers(n, t, \n",
    "                       alma_params['mode'], \n",
    "                       alma_params['function'],\n",
    "                       alma_params['tau'],\n",
    "                       model_params,\n",
    "                       alma_params['type'],\n",
    "                       alma_params['gorder'],\n",
    "                       verbose = alma_params['verbose'],\n",
    "                       parallel = alma_params['parallel'])"
   ]
  },
  {
   "cell_type": "code",
   "execution_count": null,
   "id": "3a0ab363-54eb-4738-8c9c-1a09ec601b77",
   "metadata": {},
   "outputs": [],
   "source": []
  }
 ],
 "metadata": {
  "kernelspec": {
   "display_name": "Python 3 (ipykernel)",
   "language": "python",
   "name": "python3"
  },
  "language_info": {
   "codemirror_mode": {
    "name": "ipython",
    "version": 3
   },
   "file_extension": ".py",
   "mimetype": "text/x-python",
   "name": "python",
   "nbconvert_exporter": "python",
   "pygments_lexer": "ipython3",
   "version": "3.10.5"
  }
 },
 "nbformat": 4,
 "nbformat_minor": 5
}

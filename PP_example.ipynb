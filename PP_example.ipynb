{
 "cells": [
  {
   "cell_type": "code",
   "execution_count": 1,
   "id": "5ed61629-9bd2-4faf-9531-69d91060e7bf",
   "metadata": {},
   "outputs": [],
   "source": [
    "import numpy as np\n",
    "from toml import load as tomlload\n",
    "from alma import (read_model_pp, infer_rheology_pp, \n",
    "                  build_model, love_numbers)"
   ]
  },
  {
   "cell_type": "code",
   "execution_count": 2,
   "id": "677094a1-bcf0-4cea-b6a8-f8f1e8c01978",
   "metadata": {},
   "outputs": [
    {
     "data": {
      "text/plain": [
       "{'filename': 'EuropaProfile_Seawater_35.2ppt_Tb268.305K_red.txt',\n",
       " 'rheology_structure': ['elastic', 'newton', 'newton', 'maxwell'],\n",
       " 'layer_radius': False,\n",
       " 'layer_radius_index': False,\n",
       " 'num_digits': 128,\n",
       " 'gorder': 8,\n",
       " 'tau': 0,\n",
       " 'mode': 'tidal',\n",
       " 'dmin': 1,\n",
       " 'dmax': 10,\n",
       " 'dstep': 1,\n",
       " 'time': 'log',\n",
       " 'tpoints': 20,\n",
       " 'timestart': -3,\n",
       " 'timeend': 2,\n",
       " 'function': 'step',\n",
       " 'function_length': 1.0,\n",
       " 'verbose': True,\n",
       " 'type': 'real',\n",
       " 'parallel': None}"
      ]
     },
     "execution_count": 2,
     "metadata": {},
     "output_type": "execute_result"
    }
   ],
   "source": [
    "alma_params = tomlload('paramsPyALMA3.toml')\n",
    "\n",
    "# Check none for parallel\n",
    "if type(alma_params['parallel']) is not bool:\n",
    "    alma_params['parallel'] = None\n",
    "\n",
    "alma_params"
   ]
  },
  {
   "cell_type": "code",
   "execution_count": 3,
   "id": "16228e0a-cd3b-4943-9d39-6ea63fdd16d1",
   "metadata": {},
   "outputs": [],
   "source": [
    "# Read PP model\n",
    "model = read_model_pp(alma_params['filename'])"
   ]
  },
  {
   "cell_type": "code",
   "execution_count": 4,
   "id": "0c2c0f5e-e79f-4550-bcd0-de3d63d98af2",
   "metadata": {},
   "outputs": [
    {
     "name": "stdout",
     "output_type": "stream",
     "text": [
      "  >> Verifying validity of structure rheologies\n",
      "  >> Found 4 pre-defined layers in model radius\n"
     ]
    }
   ],
   "source": [
    "rheology, params = infer_rheology_pp(model,\n",
    "                                         structure=alma_params['rheology_structure'],\n",
    "                                         layer_radius=alma_params['layer_radius'],\n",
    "                                         layer_radius_index=alma_params['layer_radius_index'])"
   ]
  },
  {
   "cell_type": "code",
   "execution_count": 5,
   "id": "00156a53-311b-4935-b3f5-b8e9584c573b",
   "metadata": {},
   "outputs": [
    {
     "name": "stdout",
     "output_type": "stream",
     "text": [
      "> Initializing\n",
      "  >> Setting precision: 128\n",
      "> Building model\n",
      "  >> Parsing Rheology\n",
      "  >> Computing mass of the planet\n",
      "  >> Computing gravity at the interface boundaries\n",
      "  >> Normalizing model parameters\n"
     ]
    }
   ],
   "source": [
    "model_params = build_model(model['model'][:, model['columns'].index('r')],\n",
    "                               model['model'][:, model['columns'].index('rho')],\n",
    "                               model['mu'],\n",
    "                               model['vis'],\n",
    "                               rheology,\n",
    "                               params,\n",
    "                               ndigits = alma_params['num_digits'],\n",
    "                               verbose = alma_params['verbose'])"
   ]
  },
  {
   "cell_type": "code",
   "execution_count": 6,
   "id": "525c408d-1428-428d-89ac-6641a4b2d22c",
   "metadata": {},
   "outputs": [],
   "source": [
    "# Harmonic degrees\n",
    "n = np.arange(alma_params['dmin'], alma_params['dmax'], alma_params['dstep'])"
   ]
  },
  {
   "cell_type": "code",
   "execution_count": 7,
   "id": "b87e8869-2442-42fa-97e6-066e7f136e9c",
   "metadata": {},
   "outputs": [],
   "source": [
    "# Time step\n",
    "if alma_params['time'] == 'lin':\n",
    "    t = np.linspace(alma_params['timestart'], \n",
    "                 alma_params['timeend'], \n",
    "                 alma_params['tpoints'],\n",
    "                 endpoint=True)\n",
    "elif alma_params['time'] == 'log':\n",
    "    t = np.logspace(alma_params['timestart'], \n",
    "                 alma_params['timeend'], \n",
    "                 alma_params['tpoints'],\n",
    "                 endpoint=True)\n",
    "elif alma_params['time'] == 'geom':\n",
    "    t = np.geomspace(alma_params['timestart'], \n",
    "                 alma_params['timeend'], \n",
    "                 alma_params['tpoints'],\n",
    "                 endpoint=True)\n",
    "else:\n",
    "    raise ValueError(f'ERROR: Unknown scale for time: {alma_params[\"time\"]}.' +\n",
    "                      'Allowed values are: \"log\", \"geom\", \"lin\".')"
   ]
  },
  {
   "cell_type": "code",
   "execution_count": 8,
   "id": "f135cd1a-23c3-42ce-bf43-64db5d0c430b",
   "metadata": {},
   "outputs": [
    {
     "name": "stdout",
     "output_type": "stream",
     "text": [
      "> Computing Salzer weights\n",
      "> Computing Love Numbers - Parallel\n"
     ]
    },
    {
     "name": "stderr",
     "output_type": "stream",
     "text": [
      "[Parallel(n_jobs=-1)]: Using backend ThreadingBackend with 32 concurrent workers.\n",
      "[Parallel(n_jobs=-1)]: Done   2 out of   9 | elapsed:  4.9min remaining: 17.2min\n",
      "[Parallel(n_jobs=-1)]: Done   6 out of   9 | elapsed:  5.2min remaining:  2.6min\n"
     ]
    },
    {
     "name": "stdout",
     "output_type": "stream",
     "text": [
      "  >> Clearing spawned threads.\n"
     ]
    },
    {
     "name": "stderr",
     "output_type": "stream",
     "text": [
      "[Parallel(n_jobs=-1)]: Done   9 out of   9 | elapsed:  5.2min finished\n"
     ]
    }
   ],
   "source": [
    "# Compute love numbers\n",
    "h, l, k = love_numbers(n, t, \n",
    "                       alma_params['mode'], \n",
    "                       alma_params['function'],\n",
    "                       alma_params['tau'],\n",
    "                       model_params,\n",
    "                       alma_params['type'],\n",
    "                       alma_params['gorder'],\n",
    "                       verbose = alma_params['verbose'],\n",
    "                       parallel = alma_params['parallel'])"
   ]
  }
 ],
 "metadata": {
  "kernelspec": {
   "display_name": "venv",
   "language": "python",
   "name": "venv"
  },
  "language_info": {
   "codemirror_mode": {
    "name": "ipython",
    "version": 3
   },
   "file_extension": ".py",
   "mimetype": "text/x-python",
   "name": "python",
   "nbconvert_exporter": "python",
   "pygments_lexer": "ipython3",
   "version": "3.11.5"
  }
 },
 "nbformat": 4,
 "nbformat_minor": 5
}
